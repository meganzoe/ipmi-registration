{
 "cells": [
  {
   "cell_type": "markdown",
   "metadata": {},
   "source": [
    "# Information Processing for Medical Imaging \n",
    "# MPHY0025 - 2018/2011\n",
    "## Registration workshop 3, 31st January 2019\n",
    "## Python version\n",
    "\n",
    "## Diffeomorphic Demons\n",
    "\n",
    "You have been provided with a new version of the Python class for running the demons registration within the script `demonsV2.py`, as well as a new function, `dispDefField` within `utils.py`. The new script is the same as the one from last week, but uses the new function to display the current deformation field and update to the deformation field either as a deformed grid or a ‘vector field’ (i.e. small arrows). Examples of these are shown below (left: deformation field shown as a grid; right: update vector field). If you look at the new `demonsV2.py` script you will see 4 new parameters (within the class initilisation `__init__`) that can be set using an _options dictionary_ which control how the deformation field and update are displayed: \n",
    "- `disp_spacing`\n",
    "- `scale_update_for_display`\n",
    "- `disp_method_df`\n",
    "- `disp_method_up`\n",
    "\n",
    "![deformationField](figure1.png)\n",
    "\n",
    "Load in the images stored in `cine_MR_1.png` and `cine_MR_2.png` that were provided for the exercises last week (remembering to convert them to doubles and re-orientate them into the ‘standard orientation’), and then run the new `DemonsAlgorithm` within `demonsV2.py` by:\n",
    "```python\n",
    "from demonsV2 import DemonsAlgorithm\n",
    "optDict = {}\n",
    "optDict['target'] = cine_MR_1\n",
    "optDict['source'] = cine_MR_2\n",
    "optDict['disp_freq'] = 10\n",
    "optDict['sigma_elastic'] = 0.5\n",
    "optDict['sigma_fluid'] = 1\n",
    "\n",
    "# initialise the algorithm with the chosen options\n",
    "d = DemonsAlgorithm(optDict)\n",
    "# run the algorithm\n",
    "d.run()\n",
    "# to extract the final deformation field from the algorithm\n",
    "# use d.def_field after you have run the algorithm\n",
    "final_def_field = d.def_field\n",
    "```\n",
    "The `optDict` is a Python dictionary of options that can be passed to the DemonsAlgorithm. If you take a look at `demonsV2.py` you will see that within the initilisation `__init__` of the class there are many options for the algorithm that can be set like the above. The default values are set using the `optDict.get()` function within `__init__`. To change the default parameters, you can overwrite the options by passing the `optDict` to the algorithm like the above.  "
   ]
  },
  {
   "cell_type": "code",
   "execution_count": null,
   "metadata": {},
   "outputs": [],
   "source": []
  },
  {
   "cell_type": "markdown",
   "metadata": {},
   "source": [
    "The deformation field and update are now displayed during each displayed iteraton. _Note: you can view the full output of the cell by clicking the white box to the left of the cell output_.\n",
    "\n",
    "In the provided script the deformation field is displayed as a deformed grid whereas the update is displayed using a vector field, but this behaviour can be modified using the new parameters mentioned above. Try modifying the new parameters and see how the displays are affected. E.g.:\n",
    "```python\n",
    "optDict['disp_method_df'] = 'arrows'\n",
    "optDict['disp_method_up'] = 'grid'\n",
    "\n",
    "d2 = demonsAlgorithm(optDict)\n",
    "d2.run()\n",
    "```"
   ]
  },
  {
   "cell_type": "markdown",
   "metadata": {},
   "source": [
    "When you run the registration using the parameters in the provided script, i.e.:\n",
    "```python\n",
    "optDict['sigma_elastic'] = 0.5\n",
    "optDict['sigma_fluid'] = 1\n",
    "optDict['num_lev'] = 3\n",
    "```\n",
    "you should notice that the registration appears to align the images very well. However, if you look closely at the deformation field you will see that folding has occurred in some places."
   ]
  },
  {
   "cell_type": "code",
   "execution_count": null,
   "metadata": {},
   "outputs": [],
   "source": []
  },
  {
   "cell_type": "markdown",
   "metadata": {},
   "source": [
    "You have also been provided with a function within `utils.py` to calculate the Jacobian determinant and the full Jacobian matrix for each pixel in the deformation field, `calcJacobian`. Have a look at this function and make sure you understand how it works. If you run the following lines of code:\n",
    "```python \n",
    "import utils\n",
    "# retrieve the final deformation field from the last run \n",
    "# demons algorithm\n",
    "def_field = d2.def_field\n",
    "# calculate the Jacobian\n",
    "J, J_Mat = utils.calcJacobian(def_field)\n",
    "# sum the values less than or equal to zero\n",
    "print(np.sum(np.less_equal(J,0))\n",
    "```\n",
    "\n",
    "You will see that there are a few hundred pixels that have a Jacobian determinant less than or equal to 0, indicating that folding has occurred in those pixels. \n",
    "\n",
    "You can also display the map of Jacobian determinants as an image (e.g. using the  `utils.dispImage` function so that it is displayed in the same orientation as the images). You will notice that there are some large values (> 3.5) as well as values < 0, and that the map is very patchy, and does not show smooth expansions/contractions as would be expected during breathing.\n",
    "\n",
    "An example is shown below:\n",
    "![jacobianDet](figure2.png)\n",
    "\n",
    "Plotted using:\n",
    "```python\n",
    "import matplotlib.pyplot as plt\n",
    "plt.imshow(J.T)\n",
    "plt.colorbar()\n",
    "```"
   ]
  },
  {
   "cell_type": "markdown",
   "metadata": {},
   "source": [
    "# Diffeomorphic Demons\n",
    "We are now going to modify the `DemonsAlgorithm` class to compose the updates rather than add them, so that the deformation field will always represent a diffeomorphic transformation (as the updates are themselves diffeomorphic), and hence will not contain any folding.\n",
    "\n",
    "To compose the update, we need to calculate:\n",
    "\n",
    "$$T_{comp}(x) = T_{current}(T_{update}(x))$$\n",
    "        \n",
    "The update is stored as a displacement field, $\\mathbf{u}_{disp}$, so first we need to convert this to a deformation field, $\\mathbf{u}_{def}$, by adding the pixel coordinates, i.e.:\n",
    "\n",
    "$$ T_{update}(x) = \\mathbf{u}_{def}(x) = \\mathbf{u}_{disp}(x) + x $$\n",
    "\n",
    "$T_{comp}(x)$ can then be calculated by resampling $T_{current}$ using the update deformation field, $\\mathbf{u}_{def}$, in the same way was an image would be resampled using $\\mathbf{u}_{def}$, i.e.:\n",
    "\n",
    "$$ I_{resamp}(x) = I_{orig}(T_{update}(x)) = I_{orig}(\\mathbf{u}_{def}(x))$$"
   ]
  },
  {
   "cell_type": "markdown",
   "metadata": {},
   "source": [
    "### To modify the demons algorithm:\n",
    "- If you are working locally, you can make a copy of `demonsV2.py` and modify the copied script. \n",
    "- If you are working via Colab, you are going to have to copy the contents of `demonsV2.py` into a cell below to make the modifications. \n",
    "\n",
    "\n",
    "1. **Delete** (or comment out) the lines of code which add the update:\n",
    "   ```python\n",
    "            disp_field_x = disp_field_x + update_x\n",
    "            disp_field_y = disp_field_y + update_y\n",
    "    ```\n",
    "2. Form a deformatin field from the displacements stored in the update variables. An empty variable needs to be created first (to avoid errors when re-running multi-resolution):\n",
    "   ```python\n",
    "            up_def_field = np.zeros_like(disp_field_x)\n",
    "   ```\n",
    "   Then the pixel coordinates, stored in `X` and `Y`, need to be added to the updates and stored in a single 3D array (as used for the current deformation field):\n",
    "   ```python\n",
    "            up_def_field[:,:,0] = update_x + X\n",
    "            up_def_field[:,:,1] = update_y + Y\n",
    "   ```\n",
    "3. Calculate the composed deformation field by resampling the current deformation field using the update deformation field. Note, the `x` and `y` components of the current deformation field must be resampled separately:\n",
    "    ```python\n",
    "            def_field[:,:,0] = utils.resampImageWithDefField(def_field[:,:,0], up_def_field)\n",
    "            def_field[:,:,1] = utils.resampImageWithDefField(def_field[:,:,1], up_def_field)\n",
    "    ```\n",
    "4. Recalculate the displacement field variables from the composed deformation (as the displacement field, rather than the deformation field, is smoothed when applying elastic regularisation):\n",
    "```python\n",
    "            disp_field_x = def_field[:,:,0] - X\n",
    "            disp_field_y = def_field[:,:,1] - Y\n",
    "```\n",
    "5. When the deformation field was resampled, pixels outside the original deformation field were given a value of NaN. These need to be replaced in the deformation field with values of 0 (note, they do not need replacing in the deformation field, as the deformation field values are recalculated from the displacement field after the elastic regularisation is applied):\n",
    "```python\n",
    "            disp_field_x[np.isnan(disp_field_x)] = 0\n",
    "            disp_field_y[np.isnan(disp_field_y)] = 0\n",
    "```\n",
    "6. Now save your modified script (or function), e.g. as `diffeoDemonsScript.py` if you are working locally. \n",
    "\n",
    "\n",
    "If you have followed the steps above correctly when you run your new Demons Algorithm (with the same parameters as used above for the non-diffeomorphic demons) you will see that the registration again appears to align the images very well, but this time the deformation field does not contain any folding. Confirm this by chekcing that none of the values of the Jacobian determinant are less than or equal to 0.\n"
   ]
  },
  {
   "cell_type": "code",
   "execution_count": null,
   "metadata": {},
   "outputs": [],
   "source": [
    "# run new DemonsAlgorithm"
   ]
  },
  {
   "cell_type": "code",
   "execution_count": null,
   "metadata": {},
   "outputs": [],
   "source": [
    "# check the Jacobian"
   ]
  },
  {
   "cell_type": "markdown",
   "metadata": {},
   "source": [
    "While the deformation field does not contain any folding, it is still not very smooth, as can be seen from the deformed grid or by displaying the map of the Jacobian determinants. \n",
    "\n",
    "Try modifying the registration parameters via the option dictionary: `optDict` to see if you can obtain a result which appears to align the images well by also gives a smoothers and more plausible looking deformation field."
   ]
  },
  {
   "cell_type": "code",
   "execution_count": null,
   "metadata": {},
   "outputs": [],
   "source": []
  },
  {
   "cell_type": "markdown",
   "metadata": {},
   "source": [
    "Now load the other image from last week, `cine_MR_3.png`, and see if you can find parameters that five good results when registering image 1 and image 4 using the diffeomorphic demons (remember to convert the image to double and re-orientate it before running the regsitration).  "
   ]
  },
  {
   "cell_type": "code",
   "execution_count": null,
   "metadata": {},
   "outputs": [],
   "source": []
  }
 ],
 "metadata": {
  "kernelspec": {
   "display_name": "Python 2",
   "language": "python",
   "name": "python2"
  },
  "language_info": {
   "codemirror_mode": {
    "name": "ipython",
    "version": 2
   },
   "file_extension": ".py",
   "mimetype": "text/x-python",
   "name": "python",
   "nbconvert_exporter": "python",
   "pygments_lexer": "ipython2",
   "version": "2.7.15"
  }
 },
 "nbformat": 4,
 "nbformat_minor": 2
}
